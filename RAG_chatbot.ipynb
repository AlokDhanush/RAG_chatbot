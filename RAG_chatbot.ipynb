{
 "cells": [
  {
   "cell_type": "code",
   "execution_count": 1,
   "metadata": {
    "colab": {
     "base_uri": "https://localhost:8080/"
    },
    "id": "s3DtCZ4JVc9g",
    "outputId": "e8551e05-f13f-4847-bc09-b527ea58a4b2"
   },
   "outputs": [
    {
     "name": "stdout",
     "output_type": "stream",
     "text": [
      "\u001b[2K   \u001b[90m━━━━━━━━━━━━━━━━━━━━━━━━━━━━━━━━━━━━━━━━\u001b[0m \u001b[32m31.3/31.3 MB\u001b[0m \u001b[31m72.4 MB/s\u001b[0m eta \u001b[36m0:00:00\u001b[0m\n",
      "\u001b[2K   \u001b[90m━━━━━━━━━━━━━━━━━━━━━━━━━━━━━━━━━━━━━━━━\u001b[0m \u001b[32m67.0/67.0 MB\u001b[0m \u001b[31m12.5 MB/s\u001b[0m eta \u001b[36m0:00:00\u001b[0m\n",
      "\u001b[2K   \u001b[90m━━━━━━━━━━━━━━━━━━━━━━━━━━━━━━━━━━━━━━━━\u001b[0m \u001b[32m363.4/363.4 MB\u001b[0m \u001b[31m2.7 MB/s\u001b[0m eta \u001b[36m0:00:00\u001b[0m\n",
      "\u001b[2K   \u001b[90m━━━━━━━━━━━━━━━━━━━━━━━━━━━━━━━━━━━━━━━━\u001b[0m \u001b[32m13.8/13.8 MB\u001b[0m \u001b[31m120.4 MB/s\u001b[0m eta \u001b[36m0:00:00\u001b[0m\n",
      "\u001b[2K   \u001b[90m━━━━━━━━━━━━━━━━━━━━━━━━━━━━━━━━━━━━━━━━\u001b[0m \u001b[32m24.6/24.6 MB\u001b[0m \u001b[31m94.5 MB/s\u001b[0m eta \u001b[36m0:00:00\u001b[0m\n",
      "\u001b[2K   \u001b[90m━━━━━━━━━━━━━━━━━━━━━━━━━━━━━━━━━━━━━━━━\u001b[0m \u001b[32m883.7/883.7 kB\u001b[0m \u001b[31m50.4 MB/s\u001b[0m eta \u001b[36m0:00:00\u001b[0m\n",
      "\u001b[2K   \u001b[90m━━━━━━━━━━━━━━━━━━━━━━━━━━━━━━━━━━━━━━━━\u001b[0m \u001b[32m664.8/664.8 MB\u001b[0m \u001b[31m1.6 MB/s\u001b[0m eta \u001b[36m0:00:00\u001b[0m\n",
      "\u001b[2K   \u001b[90m━━━━━━━━━━━━━━━━━━━━━━━━━━━━━━━━━━━━━━━━\u001b[0m \u001b[32m211.5/211.5 MB\u001b[0m \u001b[31m6.5 MB/s\u001b[0m eta \u001b[36m0:00:00\u001b[0m\n",
      "\u001b[2K   \u001b[90m━━━━━━━━━━━━━━━━━━━━━━━━━━━━━━━━━━━━━━━━\u001b[0m \u001b[32m56.3/56.3 MB\u001b[0m \u001b[31m14.6 MB/s\u001b[0m eta \u001b[36m0:00:00\u001b[0m\n",
      "\u001b[2K   \u001b[90m━━━━━━━━━━━━━━━━━━━━━━━━━━━━━━━━━━━━━━━━\u001b[0m \u001b[32m127.9/127.9 MB\u001b[0m \u001b[31m7.9 MB/s\u001b[0m eta \u001b[36m0:00:00\u001b[0m\n",
      "\u001b[2K   \u001b[90m━━━━━━━━━━━━━━━━━━━━━━━━━━━━━━━━━━━━━━━━\u001b[0m \u001b[32m207.5/207.5 MB\u001b[0m \u001b[31m6.0 MB/s\u001b[0m eta \u001b[36m0:00:00\u001b[0m\n",
      "\u001b[2K   \u001b[90m━━━━━━━━━━━━━━━━━━━━━━━━━━━━━━━━━━━━━━━━\u001b[0m \u001b[32m21.1/21.1 MB\u001b[0m \u001b[31m59.9 MB/s\u001b[0m eta \u001b[36m0:00:00\u001b[0m\n",
      "\u001b[?25h"
     ]
    }
   ],
   "source": [
    "!pip install -q faiss-cpu sentence-transformers transformers accelerate bitsandbytes"
   ]
  },
  {
   "cell_type": "code",
   "execution_count": 2,
   "metadata": {
    "id": "TR67yciHUg7G"
   },
   "outputs": [],
   "source": [
    "import numpy as np\n",
    "import faiss\n",
    "from sentence_transformers import SentenceTransformer"
   ]
  },
  {
   "cell_type": "code",
   "execution_count": 5,
   "metadata": {
    "id": "L24THFrnUvGN"
   },
   "outputs": [],
   "source": [
    "file_path = \"/content/rcb_data.txt\"\n",
    "with open(file_path, \"r\", encoding=\"utf-8\") as f:\n",
    "    text = f.read()"
   ]
  },
  {
   "cell_type": "code",
   "execution_count": 6,
   "metadata": {
    "id": "l9hDv2PlV4mJ"
   },
   "outputs": [],
   "source": [
    "def chunk_text(text, max_words=100):\n",
    "    words = text.split()\n",
    "    return [' '.join(words[i:i+max_words]) for i in range(0, len(words), max_words)]\n",
    "\n",
    "chunks = chunk_text(text)"
   ]
  },
  {
   "cell_type": "code",
   "execution_count": 7,
   "metadata": {
    "colab": {
     "base_uri": "https://localhost:8080/",
     "height": 369,
     "referenced_widgets": [
      "5103dfb062e842faa687c3760b516916",
      "d65428312f2d408dbc11036014fee6d2",
      "d89ef98b1edb459ebeca89758c4e0d72",
      "a3bad39644c54870a6616dc977bbb505",
      "c66b6f063bd64852862fa0385d63185f",
      "bc05fb14b83b495ebc6050676d7c45f3",
      "c245f9be4e2a4a869e6eeb414c202ec2",
      "a378eaf14d9a41dea62e20b4bf98c493",
      "ddef3d30127d430482bdba96c3160087",
      "3ae0356f5cd04c06a8a2b6a344a73d07",
      "72faa0c83a5a42bba1f8c5fbd9158dbe",
      "afd3fe4f0b804ef6a55768f91831294b",
      "d5a329e79b64444eb7f76a9c9dd5215f",
      "3d6050945a0543588f0c7cfa0506c8d2",
      "79054a1ab67f4470b13a6fee0b7935c7",
      "f7dc32d316ff4c878c955aadf4371808",
      "5a71703eeda049dfb13bd1ce6fe76e3f",
      "9ad9e2034bad4fa0ae0b7cf9f8f58fa9",
      "8408a440cc2d4e06abd3890228bcbece",
      "400075ed173f4365abdbddd15e76ff2b",
      "bb9187ad675f4c16b7d6f6dbbade7127",
      "3d469b0113924ab08647dc9ff7b4daf1",
      "7da6ea9b94a74e08a98ef1df35272c65",
      "b59d150c545c4254bb1fc87b2cad940f",
      "4e555f76000a477e9913ec5a7f8f99ee",
      "030551337e3a4b71a0f816099d261ddc",
      "e792076fb2e147539479c23f33fdd0d3",
      "7e4deb73dd2648f59b8e006418a2792c",
      "8d61a37715b2459a913e16aece4777a2",
      "b2d69786150549f48d81643ce43b4acf",
      "89453234159d464a9fe134da4b0b1409",
      "95b61f17422a46b38b154ab888ecd6bd",
      "0e77a4bbc58b4cdf871caa38dc7f220a",
      "14a291962a27413f93205bd16b03d14a",
      "4948ab3820e14a8989204be3a41d51f6",
      "618f256f18bf43df9b94563be2440333",
      "2b1cf1deba9147dcb219f168f666bdb8",
      "7fd23ca196144bb092bbb100aeee9e32",
      "c25cf3e1401b41a6957277dac1319b9b",
      "fa61aaeb542f4912aaf1c54fefea11f6",
      "973b79e440b345f1a2b5cf11c88ed60c",
      "4aa35b44bb5d4f6d9850c70d959130d3",
      "4780e6399d0c49c2822a8a74a73988fc",
      "dd52172f233d497db30acb7a7c424122",
      "a8d670e3123f48c8a134c88439fb11fd",
      "7643d1cda96f403c8708487dbba3edb4",
      "f98f1674bba74605b38413b83d621c42",
      "f93cc509695e4515a7e7c72994eb195d",
      "d108d576b30a40f493dc96369347e2c5",
      "0f07425d442f4951b4197b517d6c960e",
      "02d58324350448e9a5efe7d91b934a91",
      "274af36589ef40419d46648149c6cc58",
      "1dc9773c77c743fc872363d6dd13795f",
      "691742e5520b4712b7ac64e92e6de273",
      "7c617a2e72ff4d4088c9dd5bf5372376",
      "3a681870bba842b49118632690377a1a",
      "3fb928da97a84914b2085d32fc2aa069",
      "709afbf2af1742e981b1880a86a4eac3",
      "70d07faf147848e8adfa0b15e20358b4",
      "464b3bb5e849412b9f5d581595cc93bb",
      "7f7023408a9e44e5b4f5868a0a7a47ff",
      "33ac79a7248c44cc9c9e0c77cf0c6eaf",
      "dee7bed6496f44c985e20b88eb9d6edb",
      "31da40313ef24fb984e9184bfa62d630",
      "943ef1516f234eff9e9bce442f3a9a2f",
      "bfe166e428ec4f089d939f1566b0029e",
      "9a0ec7dd8ff846e6a85b0eb319c7ac33",
      "221af90436cc4089a90a7444135af656",
      "f8194f18eee14517835c2779729dd8ad",
      "bc1ff67bf3684245999c6db2c93683fa",
      "064b8d60cdac428e9501257b0ddea59b",
      "8543893ab3924fd9b4748e33a92b6ea6",
      "765a661f36754881b919ade63d3d6a50",
      "9a012a4e162147a896825e5a6269d957",
      "7a993cd1bf45439b976857cafd84ed48",
      "55c9c2ba22b940aea80b4bef53d9cc9c",
      "5cda2c146fe249f8b927f6582135e5c6",
      "97008c97f6fb496d82cbac4544c732a2",
      "03e477e7f7084271a4e372094ae7dd9c",
      "a6c8fd7f395c4600bb77a54e79271801",
      "0f7d034b9337415597b2c59c6e24666a",
      "4f9223a9ee9143f09c943439e078e8c9",
      "27101c2917f9485bb300150cfa6f8afb",
      "7c6622dd172f4362adc07a583c866ef5",
      "0ade7397b5af4e4180aa84aa771f4a2d",
      "630dfc6d9d0747aa8933543f88c423ea",
      "f5ed59d81a974684ab126da252d481a7",
      "6608751449bf44bdb7d4b824275dc8e8",
      "ea48a74e2d8142ebb4020b8fc3fd5783",
      "8b9b5224eaf94cd68027c4780790adeb",
      "67ce61c0c02941ddb451c6fc0b8cd16e",
      "23eb123303da4e4f842f6e43ccd1e34f",
      "32fe1dd9ea61453b87e2ab33a37f9ab9",
      "ea71b16b481a49c6bf45cc856ee67602",
      "77f28bf1b08447719041cce4532a041f",
      "f214cd7790fa4f909ef31a37af52f2ff",
      "a936321fe0834c24bce67372bfca615c",
      "0d14fa7032ee4c77bd1a63de42309807",
      "3c9fab2b89aa4c4ba074198cc9ec6cc3",
      "db280dfb89b54b679de29a15b0e9693c",
      "c56687b8d7554a4d8743a12fe9177bf0",
      "d1bf1d47f4574a3fbb96c53f2d620a1c",
      "55cf7573897b4f8ea4708069898279a4",
      "436e7abb21c44627a8e8a1ffbf866493",
      "e55baad359ec446f81403210f0e43644",
      "3fb04daa1b6f41768aefdcff7ccbaa0a",
      "25283b77d4a2442d9376815635a5dd89",
      "713f79ccd5bf427f8c19249224a9a38d",
      "6677e65395064e37b511cb0d8ace02f0",
      "0a9c098df32e4450b17972321dbd8f79",
      "cebb65112d6943589fa70963829600af",
      "2c34deb111354fa2a60d0ad252bcac90",
      "bc718f89c06645649184ef6677803337",
      "6b9429b711c2453bb06fb64dbb69a9da",
      "72ea8b28b1cc42ea93da3861a7f28945",
      "6647171ab9a64486b987df02c8075461",
      "ab37af187efb4687ad617ad5f187b5dc",
      "1542de5559df46d298e32e78f4b79c76",
      "6a6b77a4393240f8979c0fb86b2c30e1",
      "9e43be60a59340838303517bac48ef24",
      "e7d7642384e14667ad2156792c12244b"
     ]
    },
    "id": "3qbYe_4KV7gO",
    "outputId": "2ad763bd-d265-4d2f-d1d0-e89419696c6f"
   },
   "outputs": [
    {
     "data": {
      "application/vnd.jupyter.widget-view+json": {
       "model_id": "5103dfb062e842faa687c3760b516916",
       "version_major": 2,
       "version_minor": 0
      },
      "text/plain": [
       "modules.json:   0%|          | 0.00/349 [00:00<?, ?B/s]"
      ]
     },
     "metadata": {},
     "output_type": "display_data"
    },
    {
     "data": {
      "application/vnd.jupyter.widget-view+json": {
       "model_id": "afd3fe4f0b804ef6a55768f91831294b",
       "version_major": 2,
       "version_minor": 0
      },
      "text/plain": [
       "config_sentence_transformers.json:   0%|          | 0.00/116 [00:00<?, ?B/s]"
      ]
     },
     "metadata": {},
     "output_type": "display_data"
    },
    {
     "data": {
      "application/vnd.jupyter.widget-view+json": {
       "model_id": "7da6ea9b94a74e08a98ef1df35272c65",
       "version_major": 2,
       "version_minor": 0
      },
      "text/plain": [
       "README.md:   0%|          | 0.00/10.4k [00:00<?, ?B/s]"
      ]
     },
     "metadata": {},
     "output_type": "display_data"
    },
    {
     "data": {
      "application/vnd.jupyter.widget-view+json": {
       "model_id": "14a291962a27413f93205bd16b03d14a",
       "version_major": 2,
       "version_minor": 0
      },
      "text/plain": [
       "sentence_bert_config.json:   0%|          | 0.00/53.0 [00:00<?, ?B/s]"
      ]
     },
     "metadata": {},
     "output_type": "display_data"
    },
    {
     "data": {
      "application/vnd.jupyter.widget-view+json": {
       "model_id": "a8d670e3123f48c8a134c88439fb11fd",
       "version_major": 2,
       "version_minor": 0
      },
      "text/plain": [
       "config.json:   0%|          | 0.00/571 [00:00<?, ?B/s]"
      ]
     },
     "metadata": {},
     "output_type": "display_data"
    },
    {
     "data": {
      "application/vnd.jupyter.widget-view+json": {
       "model_id": "3a681870bba842b49118632690377a1a",
       "version_major": 2,
       "version_minor": 0
      },
      "text/plain": [
       "model.safetensors:   0%|          | 0.00/438M [00:00<?, ?B/s]"
      ]
     },
     "metadata": {},
     "output_type": "display_data"
    },
    {
     "data": {
      "application/vnd.jupyter.widget-view+json": {
       "model_id": "9a0ec7dd8ff846e6a85b0eb319c7ac33",
       "version_major": 2,
       "version_minor": 0
      },
      "text/plain": [
       "tokenizer_config.json:   0%|          | 0.00/363 [00:00<?, ?B/s]"
      ]
     },
     "metadata": {},
     "output_type": "display_data"
    },
    {
     "data": {
      "application/vnd.jupyter.widget-view+json": {
       "model_id": "97008c97f6fb496d82cbac4544c732a2",
       "version_major": 2,
       "version_minor": 0
      },
      "text/plain": [
       "vocab.txt:   0%|          | 0.00/232k [00:00<?, ?B/s]"
      ]
     },
     "metadata": {},
     "output_type": "display_data"
    },
    {
     "data": {
      "application/vnd.jupyter.widget-view+json": {
       "model_id": "ea48a74e2d8142ebb4020b8fc3fd5783",
       "version_major": 2,
       "version_minor": 0
      },
      "text/plain": [
       "tokenizer.json:   0%|          | 0.00/466k [00:00<?, ?B/s]"
      ]
     },
     "metadata": {},
     "output_type": "display_data"
    },
    {
     "data": {
      "application/vnd.jupyter.widget-view+json": {
       "model_id": "db280dfb89b54b679de29a15b0e9693c",
       "version_major": 2,
       "version_minor": 0
      },
      "text/plain": [
       "special_tokens_map.json:   0%|          | 0.00/239 [00:00<?, ?B/s]"
      ]
     },
     "metadata": {},
     "output_type": "display_data"
    },
    {
     "data": {
      "application/vnd.jupyter.widget-view+json": {
       "model_id": "cebb65112d6943589fa70963829600af",
       "version_major": 2,
       "version_minor": 0
      },
      "text/plain": [
       "config.json:   0%|          | 0.00/190 [00:00<?, ?B/s]"
      ]
     },
     "metadata": {},
     "output_type": "display_data"
    }
   ],
   "source": [
    "import numpy as np\n",
    "import faiss\n",
    "from sentence_transformers import SentenceTransformer\n",
    "\n",
    "embedder = SentenceTransformer(\"all-mpnet-base-v2\")\n",
    "embeddings = embedder.encode(chunks, convert_to_numpy=True).astype(\"float32\")\n",
    "\n",
    "index = faiss.IndexFlatL2(embeddings.shape[1])\n",
    "index.add(embeddings)"
   ]
  },
  {
   "cell_type": "code",
   "execution_count": 8,
   "metadata": {
    "colab": {
     "base_uri": "https://localhost:8080/",
     "height": 354,
     "referenced_widgets": [
      "a87ebe18930048809c24422d37ff95bf",
      "4a73dd2c3bbd4f6b99f0edde30172db6",
      "3fd6fbacd6da46988d48d299df065ba3",
      "49f17e7fb3694f9aa47c5884e24bf48c",
      "ba03e5a14c984442abd2c3672e067c3a",
      "c58f22fde71b4807a3ca75af9155e324",
      "9f4cd36c816445b98e4f1d5365d8daed",
      "fbb22e3a1dd54b71aa5f5a8070778cf5",
      "d22e23e380bc46278112cd50db547c04",
      "b99a1a121d374d258f61c4bb81b8be66",
      "c609cc4b705b4b94bdf382bc3ca0c9ce",
      "778499eee91b4c309be46974ec33cdd4",
      "de4039dcfdbd4fd48054a8d6adf2dd30",
      "ace959d0e75542cb91a00067921369ec",
      "0c6472079a2744cd9ce0f1e2ddc3827d",
      "a53699cf45ee4bac950196244c6f12b0",
      "98f8284f04514c4c89dd04d2072de1d7",
      "3e30f9cc602d424a9c3ddac80c73061f",
      "c2b51502e0084bafbd0b1681e7bf8254",
      "d1a50bffc2674537bce9b894c02e602f",
      "e5a0118df9d7435599ed6df47d414906",
      "c6467d2040d9440786f33c1a0d2c6757",
      "2c8f5693ac9c4034889853cd3eb7bcd5",
      "6d8970036c0e4ab69cb071b5c1a588c3",
      "347ab28ea76d4f9995d72b614f956bb2",
      "eed34aef40684328bcd8ea6d59295ccb",
      "b3237b9f312c4e51af84f6ba52396007",
      "58784b8b55fe4def97d916006de47b22",
      "bbfaa82533eb4a4089098869a9faa6bc",
      "d95274b3cb374c14a7009679c3209ece",
      "84ed0ee9f0de4cd69e383fdb9043c4c6",
      "4d6b9c512a654f54acc638ee833f2f8b",
      "bc80c01c32e245039e972c693e75da19",
      "d9545fc02e05453992cbee1a05aa7feb",
      "604f28f1b0ff4442a8d8e8e9e20221e7",
      "b4e7df6462ad422c8163731f20d5b4e3",
      "ca99718056eb40c9b496413432c4adc0",
      "633f58782d1a4c1bb0da2462987d288e",
      "1c7ab40cf36a446b950f5705ceac6d80",
      "f68f9a5d50f6495eb52087014c56934a",
      "3dcb5d1b3ecb47b2931fb0dbca7ea015",
      "c76361b8768d4346853c6d47ae128cd6",
      "8d62cbbb231d40bab979c0cdf93778ec",
      "df4845e8fba24d419498fe7d877d53da",
      "9ebe16029431446e9cbb546181040a9a",
      "cefafa373825411b9b18a2aeb08713bc",
      "450356b2d5304440b106d92b95aadfd3",
      "df6c6d066a444d09843001942401e838",
      "58c8342c8f9441f28fc1ec171d8b0d75",
      "2d2980f08811451a9f79dffc6d9730a7",
      "0410f3206a41473cbf06d5c783f048c9",
      "d42ccb6f1bd645ceb27e1ad454c5d590",
      "117907d89ef84886bf7e009671769b6b",
      "6f0ca21d67fe4204a50bc2f8fd80a085",
      "a1fe271465714094882330af6c0556e6",
      "1d8c955aaf1844f1bebe32d55ee41694",
      "bcbec30e494f47a28b938e525817dc1f",
      "7ba50546558a42f1a62015e1c035e2c6",
      "c9b9370946ad445e826d7990de9eef3d",
      "93b497aabc304ad0855f1e0ccda6d177",
      "aca7a711efde473f9890918727c3d830",
      "9f86195d79f7409db808742c5903b81a",
      "918ba8f52c3d445f8f675683734e3661",
      "62f7febeb815475e952bf4963bd524bd",
      "41b913420d424ee883727760a432edeb",
      "4228837d57314795a03ce4f35c2969c0",
      "c1e24ae30b134fc7b2bdb754296964b7",
      "ab05ea57a2264f0ebd63d42cde142693",
      "1e90b4aaf42346e8b6582a983044bba8",
      "85c8f92a443c4223be6144cc5bf38c7d",
      "fded5768650e481580fbbf424e77646e",
      "6039fa5084704f80805cd11dfa2307fa",
      "819a39f357c0426ba3375f2393175637",
      "f9b7f935bf744fb58bbd990ff42df85c",
      "c0d4f278bfd341ecaabfee63e53b1d6c",
      "981ff371a0e24edd97d35bd51d0e6007",
      "9e7c153ea3734cffa830b5de9901e492",
      "a5aa7501c959409b832b0a41bf97b5dd",
      "55b4920ab2054648b84bf9fe0e7d72e6",
      "092cd01170e1416db578f5867cbf77f0",
      "306198ee25ad4d8ab135e1c517971f4b",
      "640ce5a30ff34bcd87f65482881e7fcc",
      "7314eb86304a4b3797c03ed87bb2896c",
      "1a650657c5444a009a5cc7b4295a7689",
      "2449ba7c030f45cd8d5a3f27d45fbd3e",
      "8acf7d057fad4971900901f5c9e11b92",
      "f3a54346654740688e12627bfe186116",
      "e67cfbe4ea1a4d18bf450e191c82986d",
      "b0d2332c1f4a4748a81bcbe8ddb42df6",
      "21857e261bc74bbe852621dc30e0c924",
      "fd2869fd6a864a2d9da93cece7b77b45",
      "29a92095219b403880cd5ade3d316935",
      "455767b2675349369bf66516f037355c",
      "e26ba0971c7a4d5b929508431188c297",
      "068aebc05a554b3c81ffb55441ee6aad",
      "b982d34b4af645c4a7769591d82301a5",
      "0ad81ebc3b4e48498ccfad1b94c79375",
      "b5dd200439bd4b45af40bd50bd865e58",
      "8eaa9c35bac341fab8eb77af4a441bb3",
      "be3092d981494ce7a8c6e852aefc3bf2",
      "046b9f99ad1c4d7584be9087407db779",
      "dbcc0e03234a477e830d2543451c8e13",
      "98e22dc8fdca4726997594c4400b03a9",
      "84ad4af10d7443098ce95bf768c44569",
      "6a04c97599be48dab51cc34787c02d55",
      "f13757acae5b4e94b54daa4cb03d0124",
      "22f6ddd0db264ccdba07aea024ad82ef",
      "a58f297d72344b44a03bc2370039a27e",
      "80ef3b3035744fa8938738790ca8a2bc",
      "f97c8479c71746d3a656de033acdb90f"
     ]
    },
    "id": "oyY3_8OQV-EY",
    "outputId": "4892a0f4-6f8f-4e53-a92d-8b31798affb1"
   },
   "outputs": [
    {
     "data": {
      "application/vnd.jupyter.widget-view+json": {
       "model_id": "a87ebe18930048809c24422d37ff95bf",
       "version_major": 2,
       "version_minor": 0
      },
      "text/plain": [
       "tokenizer_config.json:   0%|          | 0.00/54.5k [00:00<?, ?B/s]"
      ]
     },
     "metadata": {},
     "output_type": "display_data"
    },
    {
     "data": {
      "application/vnd.jupyter.widget-view+json": {
       "model_id": "778499eee91b4c309be46974ec33cdd4",
       "version_major": 2,
       "version_minor": 0
      },
      "text/plain": [
       "tokenizer.json:   0%|          | 0.00/9.09M [00:00<?, ?B/s]"
      ]
     },
     "metadata": {},
     "output_type": "display_data"
    },
    {
     "data": {
      "application/vnd.jupyter.widget-view+json": {
       "model_id": "2c8f5693ac9c4034889853cd3eb7bcd5",
       "version_major": 2,
       "version_minor": 0
      },
      "text/plain": [
       "special_tokens_map.json:   0%|          | 0.00/296 [00:00<?, ?B/s]"
      ]
     },
     "metadata": {},
     "output_type": "display_data"
    },
    {
     "data": {
      "application/vnd.jupyter.widget-view+json": {
       "model_id": "d9545fc02e05453992cbee1a05aa7feb",
       "version_major": 2,
       "version_minor": 0
      },
      "text/plain": [
       "config.json:   0%|          | 0.00/878 [00:00<?, ?B/s]"
      ]
     },
     "metadata": {},
     "output_type": "display_data"
    },
    {
     "data": {
      "application/vnd.jupyter.widget-view+json": {
       "model_id": "9ebe16029431446e9cbb546181040a9a",
       "version_major": 2,
       "version_minor": 0
      },
      "text/plain": [
       "model.safetensors.index.json:   0%|          | 0.00/20.9k [00:00<?, ?B/s]"
      ]
     },
     "metadata": {},
     "output_type": "display_data"
    },
    {
     "data": {
      "application/vnd.jupyter.widget-view+json": {
       "model_id": "1d8c955aaf1844f1bebe32d55ee41694",
       "version_major": 2,
       "version_minor": 0
      },
      "text/plain": [
       "Fetching 2 files:   0%|          | 0/2 [00:00<?, ?it/s]"
      ]
     },
     "metadata": {},
     "output_type": "display_data"
    },
    {
     "data": {
      "application/vnd.jupyter.widget-view+json": {
       "model_id": "c1e24ae30b134fc7b2bdb754296964b7",
       "version_major": 2,
       "version_minor": 0
      },
      "text/plain": [
       "model-00002-of-00002.safetensors:   0%|          | 0.00/1.46G [00:00<?, ?B/s]"
      ]
     },
     "metadata": {},
     "output_type": "display_data"
    },
    {
     "data": {
      "application/vnd.jupyter.widget-view+json": {
       "model_id": "a5aa7501c959409b832b0a41bf97b5dd",
       "version_major": 2,
       "version_minor": 0
      },
      "text/plain": [
       "model-00001-of-00002.safetensors:   0%|          | 0.00/4.97G [00:00<?, ?B/s]"
      ]
     },
     "metadata": {},
     "output_type": "display_data"
    },
    {
     "data": {
      "application/vnd.jupyter.widget-view+json": {
       "model_id": "b0d2332c1f4a4748a81bcbe8ddb42df6",
       "version_major": 2,
       "version_minor": 0
      },
      "text/plain": [
       "Loading checkpoint shards:   0%|          | 0/2 [00:00<?, ?it/s]"
      ]
     },
     "metadata": {},
     "output_type": "display_data"
    },
    {
     "data": {
      "application/vnd.jupyter.widget-view+json": {
       "model_id": "be3092d981494ce7a8c6e852aefc3bf2",
       "version_major": 2,
       "version_minor": 0
      },
      "text/plain": [
       "generation_config.json:   0%|          | 0.00/189 [00:00<?, ?B/s]"
      ]
     },
     "metadata": {},
     "output_type": "display_data"
    },
    {
     "name": "stderr",
     "output_type": "stream",
     "text": [
      "Device set to use cuda:0\n"
     ]
    }
   ],
   "source": [
    "from transformers import AutoTokenizer, AutoModelForCausalLM, pipeline\n",
    "import torch\n",
    "\n",
    "model_id = \"meta-llama/Llama-3.2-3B-Instruct\"\n",
    "\n",
    "tokenizer = AutoTokenizer.from_pretrained(model_id)\n",
    "model = AutoModelForCausalLM.from_pretrained(\n",
    "    model_id,\n",
    "    device_map=\"auto\",\n",
    "    torch_dtype=torch.float16\n",
    ")\n",
    "\n",
    "llm = pipeline(\"text-generation\", model=model, tokenizer=tokenizer)"
   ]
  },
  {
   "cell_type": "code",
   "execution_count": 9,
   "metadata": {
    "id": "Afgcg-XNW9BB"
   },
   "outputs": [],
   "source": [
    "def get_top_chunks(query, k=3):\n",
    "    query_vec = embedder.encode([query], convert_to_numpy=True)\n",
    "    distances, indices = index.search(query_vec, k)\n",
    "    return [chunks[i] for i in indices[0]]\n",
    "\n",
    "def build_prompt(context_chunks, query):\n",
    "    context = \"\\n\".join(context_chunks)\n",
    "    prompt = f\"\"\"[INST] You are a cricket expert assistant. Use only the context to answer.\n",
    "If the answer is not found in the context, say \"I don't know\".\n",
    "\n",
    "### Context:\n",
    "{context}\n",
    "\n",
    "### Question:\n",
    "{query}\n",
    "\n",
    "### Answer:\n",
    "[/INST]\"\"\"\n",
    "    return prompt"
   ]
  },
  {
   "cell_type": "code",
   "execution_count": 10,
   "metadata": {
    "id": "4Zstq0f5XC0m"
   },
   "outputs": [],
   "source": [
    "def ask(query):\n",
    "    context_chunks = get_top_chunks(query)\n",
    "    prompt = build_prompt(context_chunks, query)\n",
    "\n",
    "    result = llm(\n",
    "        prompt,\n",
    "        max_new_tokens=200,\n",
    "        temperature=0.3,\n",
    "        do_sample=False,\n",
    "        return_full_text=False\n",
    "    )\n",
    "\n",
    "    return \"Answer: \"+ result[0]['generated_text'].strip()\n"
   ]
  },
  {
   "cell_type": "code",
   "execution_count": 20,
   "metadata": {
    "colab": {
     "base_uri": "https://localhost:8080/",
     "height": 194
    },
    "id": "3sUlOqHBd_lI",
    "outputId": "878fb6c4-67c7-4955-97e6-5920c2f9dc27"
   },
   "outputs": [
    {
     "name": "stderr",
     "output_type": "stream",
     "text": [
      "The following generation flags are not valid and may be ignored: ['temperature', 'top_p']. Set `TRANSFORMERS_VERBOSITY=info` for more details.\n",
      "Setting `pad_token_id` to `eos_token_id`:128001 for open-end generation.\n"
     ]
    },
    {
     "name": "stdout",
     "output_type": "stream",
     "text": [
      "Retrieved Context:\n",
      " as head coach.[123] RCB qualified for the playoffs by finishing third in the points table but failed to lift the trophy once again, losing to fourth placed Kolkata Knight Riders in the Eliminator.[124][125] Harshal Patel finished the season with 32 wickets, equalling Dwayne Bravo's record for the highest number of wickets taken in a season and winning the Purple Cap.[126][127] Glenn Maxwell was the highest run-scorer for the team with 513 runs, the fifth highest in the season.[128] Virat Kohli became the first-ever batsman to score 6,000 runs in the IPL during this season.[129] This season marked AB de Villiers's\n",
      "---\n",
      "for just 49 runs, marking the lowest score ever in an IPL match.[94][95] Virat Kohli was the leading run-scorer for the team with 308 runs in the tournament, while Pawan Negi took the most wickets, claiming 16.[96][97] Ahead of the 2018 IPL, RCB retained Virat Kohli, AB de Villiers, and Sarfaraz Khan.[98] During the auction, they acquired notable players such as Brendon McCullum, Chris Woakes, Colin de Grandhomme, Moeen Ali, Quinton de Kock, Umesh Yadav, and Yuzvendra Chahal, among others.[99] In January 2018, Gary Kirsten was appointed as the batting coach, and Ashish Nehra took on the role of bowling\n",
      "---\n",
      "16 matches, failing to qualify for the playoffs.[57] Chris Gayle was the second highest run scorer of the tournament, behind Michael Hussey of the Chennai Super Kings, while Vinay Kumar was the team's highest wicket-taker with 23 wickets.[58][59] Before the 2014 auction, RCB retained AB de Villiers, Chris Gayle, and Virat Kohli from previous seasons.[60] The players bought in the 2014 auction included Albie Morkel, Mitchell Starc, Parthiv Patel, Ashok Dinda, Nic Maddinson, Varun Aaron, Yuzvendra Chahal, Vijay Zol, and Yuvraj Singh, who was the most expensive player at ₹14 crore (equivalent to ₹22 crore or US$2.6 million in 2023),\n"
     ]
    },
    {
     "data": {
      "application/vnd.google.colaboratory.intrinsic+json": {
       "type": "string"
      },
      "text/plain": [
       "'Answer: Virat Kohli with 308 runs in the tournament.'"
      ]
     },
     "execution_count": 20,
     "metadata": {},
     "output_type": "execute_result"
    }
   ],
   "source": [
    "query = \"Who has the most runs for RCB in IPL?\"\n",
    "print(\"Retrieved Context:\\n\", \"\\n---\\n\".join(get_top_chunks(query)))\n",
    "ask(query)"
   ]
  },
  {
   "cell_type": "code",
   "execution_count": 12,
   "metadata": {
    "colab": {
     "base_uri": "https://localhost:8080/",
     "height": 88
    },
    "id": "YGfeTUVJgfbb",
    "outputId": "0e2edad9-47b1-4735-db34-c79e6dbac62d"
   },
   "outputs": [
    {
     "name": "stderr",
     "output_type": "stream",
     "text": [
      "The following generation flags are not valid and may be ignored: ['temperature', 'top_p']. Set `TRANSFORMERS_VERBOSITY=info` for more details.\n",
      "Setting `pad_token_id` to `eos_token_id`:128001 for open-end generation.\n"
     ]
    },
    {
     "data": {
      "application/vnd.google.colaboratory.intrinsic+json": {
       "type": "string"
      },
      "text/plain": [
       "\"Answer: I don't know. The context only mentions Virat Kohli scoring 75 runs in one match, but it does not specify the opponent or the final match.\""
      ]
     },
     "execution_count": 12,
     "metadata": {},
     "output_type": "execute_result"
    }
   ],
   "source": [
    "ask(\"How many runs did Virat Kohli scored in the final match between RCB vs PBKS?\")"
   ]
  },
  {
   "cell_type": "code",
   "execution_count": 13,
   "metadata": {
    "colab": {
     "base_uri": "https://localhost:8080/",
     "height": 70
    },
    "id": "bvxsafkign0j",
    "outputId": "0acf71d5-ab1a-4755-b956-c00275f24f8b"
   },
   "outputs": [
    {
     "name": "stderr",
     "output_type": "stream",
     "text": [
      "The following generation flags are not valid and may be ignored: ['temperature', 'top_p']. Set `TRANSFORMERS_VERBOSITY=info` for more details.\n",
      "Setting `pad_token_id` to `eos_token_id`:128001 for open-end generation.\n"
     ]
    },
    {
     "data": {
      "application/vnd.google.colaboratory.intrinsic+json": {
       "type": "string"
      },
      "text/plain": [
       "\"Answer: I don't know.\""
      ]
     },
     "execution_count": 13,
     "metadata": {},
     "output_type": "execute_result"
    }
   ],
   "source": [
    "ask(\"How many times has RCB played playoff matches?\")"
   ]
  },
  {
   "cell_type": "code",
   "execution_count": 14,
   "metadata": {
    "colab": {
     "base_uri": "https://localhost:8080/",
     "height": 70
    },
    "id": "svWjFSv1g7Dr",
    "outputId": "adc3124b-fa87-4b0f-e8ab-a471f2e8b929"
   },
   "outputs": [
    {
     "name": "stderr",
     "output_type": "stream",
     "text": [
      "The following generation flags are not valid and may be ignored: ['temperature', 'top_p']. Set `TRANSFORMERS_VERBOSITY=info` for more details.\n",
      "Setting `pad_token_id` to `eos_token_id`:128001 for open-end generation.\n"
     ]
    },
    {
     "data": {
      "application/vnd.google.colaboratory.intrinsic+json": {
       "type": "string"
      },
      "text/plain": [
       "\"Answer: I don't know. The context does not mention the owner of RCB.\""
      ]
     },
     "execution_count": 14,
     "metadata": {},
     "output_type": "execute_result"
    }
   ],
   "source": [
    "ask(\"Who is the owner of RCB?\")"
   ]
  },
  {
   "cell_type": "code",
   "execution_count": 15,
   "metadata": {
    "colab": {
     "base_uri": "https://localhost:8080/",
     "height": 88
    },
    "id": "RVAlEyeLhS0-",
    "outputId": "dffafd4f-38f2-43c6-a98c-508c43aac4f3"
   },
   "outputs": [
    {
     "name": "stderr",
     "output_type": "stream",
     "text": [
      "The following generation flags are not valid and may be ignored: ['temperature', 'top_p']. Set `TRANSFORMERS_VERBOSITY=info` for more details.\n",
      "Setting `pad_token_id` to `eos_token_id`:128001 for open-end generation.\n"
     ]
    },
    {
     "data": {
      "application/vnd.google.colaboratory.intrinsic+json": {
       "type": "string"
      },
      "text/plain": [
       "'Answer: Royal Challengers Bangalore, commonly known as RCB, is a professional T20 franchise cricket team based in Bengaluru, Karnataka, that competes in the Indian Premier League.'"
      ]
     },
     "execution_count": 15,
     "metadata": {},
     "output_type": "execute_result"
    }
   ],
   "source": [
    "ask(\"RCB stands for?\")"
   ]
  },
  {
   "cell_type": "code",
   "execution_count": 16,
   "metadata": {
    "colab": {
     "base_uri": "https://localhost:8080/",
     "height": 70
    },
    "id": "qjBt79TqhdgE",
    "outputId": "1362b23a-c8e0-4185-ef08-740961033290"
   },
   "outputs": [
    {
     "name": "stderr",
     "output_type": "stream",
     "text": [
      "The following generation flags are not valid and may be ignored: ['temperature', 'top_p']. Set `TRANSFORMERS_VERBOSITY=info` for more details.\n",
      "Setting `pad_token_id` to `eos_token_id`:128001 for open-end generation.\n"
     ]
    },
    {
     "data": {
      "application/vnd.google.colaboratory.intrinsic+json": {
       "type": "string"
      },
      "text/plain": [
       "'Answer: RCB won their first title in 2025.'"
      ]
     },
     "execution_count": 16,
     "metadata": {},
     "output_type": "execute_result"
    }
   ],
   "source": [
    "ask(\"When did RCB win their first title?\")"
   ]
  },
  {
   "cell_type": "code",
   "execution_count": 17,
   "metadata": {
    "colab": {
     "base_uri": "https://localhost:8080/",
     "height": 70
    },
    "id": "QwU2bJjrhrjZ",
    "outputId": "d7b03eb6-2b94-4a6a-f9c3-9dc67e0975df"
   },
   "outputs": [
    {
     "name": "stderr",
     "output_type": "stream",
     "text": [
      "The following generation flags are not valid and may be ignored: ['temperature', 'top_p']. Set `TRANSFORMERS_VERBOSITY=info` for more details.\n",
      "Setting `pad_token_id` to `eos_token_id`:128001 for open-end generation.\n"
     ]
    },
    {
     "data": {
      "application/vnd.google.colaboratory.intrinsic+json": {
       "type": "string"
      },
      "text/plain": [
       "\"Answer: I don't know. The context only provides information about the 2023 season, not the 2025 season.\""
      ]
     },
     "execution_count": 17,
     "metadata": {},
     "output_type": "execute_result"
    }
   ],
   "source": [
    "ask(\"Who is the top scorer for RCB in 2025?\")"
   ]
  }
 ],
 "metadata": {
  "accelerator": "GPU",
  "colab": {
   "gpuType": "T4",
   "provenance": []
  },
  "kernelspec": {
   "display_name": "Python 3",
   "name": "python3"
  },
  "language_info": {
   "name": "python"
  }
 },
 "nbformat": 4,
 "nbformat_minor": 0
}
